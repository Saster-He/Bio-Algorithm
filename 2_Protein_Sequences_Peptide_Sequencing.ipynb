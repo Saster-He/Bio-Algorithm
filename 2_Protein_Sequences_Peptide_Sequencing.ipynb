{
 "cells": [
  {
   "cell_type": "markdown",
   "metadata": {},
   "source": [
    "# 2. Protein Sequences and Peptide Sequencing"
   ]
  },
  {
   "cell_type": "markdown",
   "metadata": {},
   "source": [
    "Which peptide combinations have a total molecular weight of 555, 1024, and 2048?"
   ]
  },
  {
   "cell_type": "code",
   "execution_count": 1,
   "metadata": {
    "collapsed": true
   },
   "outputs": [],
   "source": [
    "Residues = [\n",
    "    (186, 'W'), (163, 'Y'), (156, 'R'), (147, 'F'), (137, 'H'), \n",
    "    (131, 'M'), (129, 'E'), (128, '[K/Q]'), (115, 'D'), (114, 'N'),\n",
    "    (113, '[I/L]'), (103, 'C'), (101, 'T'), (99, 'V'), (97, 'P'), \n",
    "    (87, 'S'), (71, 'A'), (57, 'G')\n",
    "]"
   ]
  },
  {
   "cell_type": "code",
   "execution_count": 2,
   "metadata": {},
   "outputs": [
    {
     "name": "stdout",
     "output_type": "stream",
     "text": [
      "(4, 'CCYW') 555\n",
      "(6, 'FRYWWW') 1024\n",
      "(12, 'GMWWWWWWWWWW') 2048\n"
     ]
    }
   ],
   "source": [
    "def DPShortestPeptideCombination(target, Residues):\n",
    "    dp = []\n",
    "    dp.append(0)\n",
    "    pep = []\n",
    "    pep.append('')\n",
    "    \n",
    "    for i in xrange(1, target+1):\n",
    "        dp.append(2**31-1)\n",
    "        pep.append('')\n",
    "        \n",
    "    for i in xrange(Residues[-1][0], target+1):\n",
    "        for j in xrange(len(Residues)):\n",
    "            if i-Residues[j][0] >= 0 and 1+dp[i-Residues[j][0]] < dp[i]: \n",
    "                dp[i] = 1+dp[i-Residues[j][0]]\n",
    "                pep[i] = pep[i-Residues[j][0]]+Residues[j][1]   \n",
    "    return dp[target], pep[target]\n",
    "\n",
    "print DPShortestPeptideCombination(555, Residues), 555\n",
    "print DPShortestPeptideCombination(1024, Residues), 1024\n",
    "print DPShortestPeptideCombination(2048, Residues), 2048"
   ]
  },
  {
   "cell_type": "markdown",
   "metadata": {
    "collapsed": true
   },
   "source": [
    "How many mass peaks are shared between the two peptides SMART and TRAYS match?"
   ]
  },
  {
   "cell_type": "code",
   "execution_count": 4,
   "metadata": {
    "collapsed": true
   },
   "outputs": [],
   "source": [
    "Daltons = { \n",
    "        'A':  71, 'C': 103, 'D': 115, 'E': 129,\n",
    "        'F': 147, 'G':  57, 'H': 137, 'I': 113,\n",
    "        'K': 128, 'L': 113, 'M': 131, 'N': 114,\n",
    "        'P':  97, 'Q': 128, 'R': 156, 'S':  87,\n",
    "        'T': 101, 'V':  99, 'W': 186, 'Y': 163 \n",
    "    }"
   ]
  },
  {
   "cell_type": "code",
   "execution_count": 5,
   "metadata": {},
   "outputs": [
    {
     "name": "stdout",
     "output_type": "stream",
     "text": [
      "[71, 87, 101, 131, 156, 202, 218, 227, 257, 289, 328, 358, 445, 459, 546]\n",
      "[71, 87, 101, 156, 163, 227, 234, 250, 257, 321, 328, 390, 477, 491, 578]\n",
      "set([257, 227, 101, 71, 328, 87, 156])\n"
     ]
    }
   ],
   "source": [
    "def TheoreticalSpectrum(peptide): \n",
    "    # Generate every possible fragment of a peptide \n",
    "    spectrum = set() \n",
    "    for fragLength in xrange(1,len(peptide)+1): \n",
    "        for start in xrange(0,len(peptide)-fragLength+1): \n",
    "            seq = peptide[start:start+fragLength] \n",
    "            spectrum.add(sum([Daltons[res] for res in seq])) \n",
    "    return sorted(spectrum) \n",
    "\n",
    "s1 = TheoreticalSpectrum('SMART') \n",
    "s2 = TheoreticalSpectrum('TRAYS') \n",
    "print s1 \n",
    "print s2 \n",
    "print set(s1) & set(s2) "
   ]
  }
 ],
 "metadata": {
  "kernelspec": {
   "display_name": "Python 2",
   "language": "python",
   "name": "python2"
  },
  "language_info": {
   "codemirror_mode": {
    "name": "ipython",
    "version": 2
   },
   "file_extension": ".py",
   "mimetype": "text/x-python",
   "name": "python",
   "nbconvert_exporter": "python",
   "pygments_lexer": "ipython2",
   "version": "2.7.14"
  }
 },
 "nbformat": 4,
 "nbformat_minor": 2
}
