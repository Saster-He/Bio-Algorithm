{
 "cells": [
  {
   "cell_type": "markdown",
   "metadata": {},
   "source": [
    "<html><head>\n",
    "\n",
    "\n",
    "<!-- Load require.js. Delete this if your page already loads require.js -->\n",
    "<script src=\"https://cdnjs.cloudflare.com/ajax/libs/require.js/2.3.4/require.min.js\" integrity=\"sha256-Ae2Vz/4ePdIu6ZyI/5ZGsYnb+m0JlOmKPjt6XZ9JJkA=\" crossorigin=\"anonymous\"></script>\n",
    "<script src=\"https://unpkg.com/@jupyter-widgets/html-manager@*/dist/embed-amd.js\" crossorigin=\"anonymous\"></script>\n",
    "<script type=\"application/vnd.jupyter.widget-state+json\">\n",
    "{\n",
    "    \"version_major\": 2,\n",
    "    \"version_minor\": 0,\n",
    "    \"state\": {}\n",
    "}\n",
    "</script>\n",
    "</head>\n",
    "<body>\n",
    "\n",
    "\n",
    "</body>\n",
    "</html>\n"
   ]
  },
  {
   "cell_type": "markdown",
   "metadata": {},
   "source": [
    "# 1. Finding Patterns in DNA"
   ]
  },
  {
   "cell_type": "markdown",
   "metadata": {},
   "source": [
    "The GC skew diagram for [Salmonella Typhimurium](http://csbio.unc.edu/mcmillan/Comp555S18/data/SalmonellaTyphimurium.fa). How to estimate the position of the OriC?"
   ]
  },
  {
   "cell_type": "code",
   "execution_count": null,
   "metadata": {
    "collapsed": true
   },
   "outputs": [],
   "source": [
    "def loadFasta(filename):\n",
    "    \"\"\" Parses a classically formatted and possibly \n",
    "        compressed FASTA file into a list of headers \n",
    "        and fragment sequences for each sequence contained\"\"\"\n",
    "    if (filename.endswith(\".gz\")):\n",
    "        fp = gzip.open(filename, 'rb')\n",
    "    else:\n",
    "        fp = open(filename, 'rb')\n",
    "    # split at headers\n",
    "    data = fp.read().split('>')\n",
    "    fp.close()\n",
    "    # ignore whatever appears before the 1st header\n",
    "    data.pop(0)     \n",
    "    headers = []\n",
    "    sequences = []\n",
    "    for sequence in data:\n",
    "        lines = sequence.split('\\n')\n",
    "        headers.append(lines.pop(0))\n",
    "        # add an extra \"+\" to make string \"1-referenced\"\n",
    "        sequences.append('+' + ''.join(lines))\n",
    "    return (headers, sequences)"
   ]
  },
  {
   "cell_type": "code",
   "execution_count": null,
   "metadata": {},
   "outputs": [],
   "source": [
    "import numpy \n",
    "\n",
    "def GCSkew(sequence): \n",
    "    half = len(sequence)//2 \n",
    "    full = len(sequence) \n",
    "    genome = numpy.fromstring(sequence+sequence, dtype='uint8') \n",
    "    matchC = numpy.concatenate(([0], numpy.array(genome == ord('C'), dtype=\"int8\").cumsum())) \n",
    "    matchG = numpy.concatenate(([0], numpy.array(genome == ord('G'), dtype=\"int8\").cumsum())) \n",
    "    matchGC = matchG - matchC \n",
    "    skew = matchGC[half:half+full]-matchGC[0:full]+matchGC[full-half:2*full-half]-matchGC[full:2*full] \n",
    "    return skew \n",
    "\n",
    "header, seq = loadFasta(\"SalmonellaTyphimurium.fa\")\n",
    "\n",
    "%matplotlib inline \n",
    "import matplotlib \n",
    "import matplotlib.pyplot as plt \n",
    "\n",
    "y = GCSkew(seq[0][1:]) \n",
    "oriCGuess = y.argmax() + 1 \n",
    "N = len(y) \n",
    "plt.figure(num=None, figsize=(24, 7), dpi=100) \n",
    "plt.axvline(oriCGuess, color=\"r\", linestyle='--') \n",
    "result = plt.plot(range(0,N,1000), y[0:N:1000]) \n",
    "print oriCGuess, \"is the estimated OriC position\""
   ]
  },
  {
   "cell_type": "markdown",
   "metadata": {},
   "source": [
    "Searching for motifs by a branch-and-bound algorithm."
   ]
  },
  {
   "cell_type": "code",
   "execution_count": null,
   "metadata": {
    "collapsed": true
   },
   "outputs": [],
   "source": [
    "import itertools \n",
    "\n",
    "def ScanAndScoreMotif(DNA, motif):\n",
    "    totalDist = 0\n",
    "    bestAlignment = []\n",
    "    k = len(motif)\n",
    "    for seq in DNA:\n",
    "        minHammingDist = k+1\n",
    "        for s in xrange(len(seq)-k+1):\n",
    "            HammingDist = sum([1 for i in xrange(k) if motif[i] != seq[s+i]])\n",
    "            if (HammingDist < minHammingDist):\n",
    "                bestS = s\n",
    "                minHammingDist = HammingDist\n",
    "        bestAlignment.append(bestS)\n",
    "        totalDist += minHammingDist\n",
    "    return bestAlignment, totalDist\n",
    "\n",
    "\n",
    "def BranchAndBoundMedianStringMotifSearch(DNA, k, prefix=''): \n",
    "    global bestAlignment, minHammingDist, bestkmer \n",
    "    if len(prefix) == 0: \n",
    "        bestAlignment = [] \n",
    "        minHammingDist = k*len(DNA) \n",
    "        bestkmer = \"?\"\n",
    "        \n",
    "    # score the current prefix \n",
    "    align, dist = ScanAndScoreMotif(DNA,prefix) \n",
    "    # if the prefix is of length k, we should consider it \n",
    "    if len(prefix) == k: \n",
    "    # only set new \"best\" variables if the score for the prefix improves the best score \n",
    "        if(dist < minHammingDist): \n",
    "            bestAlignment = [a for a in align] \n",
    "            minHammingDist = dist \n",
    "            bestkmer = prefix \n",
    "        else: \n",
    "        # only branch if the score for the prefix is still less than the best score \n",
    "            if(dist < minHammingDist): \n",
    "                for base in \"acgt\": \n",
    "                    BranchAndBoundMedianStringMotifSearch(DNA, k, prefix+base) \n",
    "        return bestAlignment, minHammingDist, bestkmer "
   ]
  },
  {
   "cell_type": "code",
   "execution_count": null,
   "metadata": {},
   "outputs": [],
   "source": [
    "seqApprox = [ \n",
    "'tagtggtcttttgagtgtagatctgaagggaaagtatttccaccagttcggggtcacccagcagggcagggtgacttaat', \n",
    "'cgcgactcggcgctcacagttatcgcacgtttagaccaaaacggagttggatccgaaactggagtttaatcggagtcctt', \n",
    "'gttacttgtgagcctggttagacccgaaatataattgttggctgcatagcggagctgacatacgagtaggggaaatgcgt', \n",
    "'aacatcaggctttgattaaacaatttaagcacgtaaatccgaattgacctgatgacaatacggaacatgccggctccggg', \n",
    "'accaccggataggctgcttattaggtccaaaaggtagtatcgtaataatggctcagccatgtcaatgtgcggcattccac', \n",
    "'tagattcgaatcgatcgtgtttctccctctgtgggttaacgaggggtccgaccttgctcgcatgtgccgaacttgtaccc', \n",
    "'gaaatggttcggtgcgatatcaggccgttctcttaacttggcggtgcagatccgaacgtctctggaggggtcgtgcgcta', \n",
    "'atgtatactagacattctaacgctcgcttattggcggagaccatttgctccactacaagaggctactgtgtagatccgta', \n",
    "'ttcttacacccttctttagatccaaacctgttggcgccatcttcttttcgagtccttgtacctccatttgctctgatgac', \n",
    "'ctacctatgtaaaacaacatctactaacgtagtccggtctttcctgatctgccctaacctacaggtcgatccgaaattcg'] \n",
    "\n",
    "%time myAnswer=BranchAndBoundMedianStringMotifSearch(seqApprox,10)"
   ]
  }
 ],
 "metadata": {
  "kernelspec": {
   "display_name": "Python 2",
   "language": "python",
   "name": "python2"
  },
  "language_info": {
   "codemirror_mode": {
    "name": "ipython",
    "version": 2
   },
   "file_extension": ".py",
   "mimetype": "text/x-python",
   "name": "python",
   "nbconvert_exporter": "python",
   "pygments_lexer": "ipython2",
   "version": "2.7.14"
  }
 },
 "nbformat": 4,
 "nbformat_minor": 2
}
